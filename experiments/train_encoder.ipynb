{
 "cells": [
  {
   "cell_type": "code",
   "execution_count": 5,
   "metadata": {},
   "outputs": [],
   "source": [
    "\n",
    "# import modules\n",
    "import numpy as np\n",
    "import tensorflow as tf\n",
    "np.random.seed(1337)\n",
    "from adain.encoder import vgg19_light\n",
    "from adain.generator import BatchGenerator, create_callbacks"
   ]
  },
  {
   "cell_type": "code",
   "execution_count": 2,
   "metadata": {},
   "outputs": [],
   "source": [
    "\n",
    "model = vgg19_light(input_shape=[256,256,3])\n",
    "model.load_weights(\"mobile_encoder.h5\", by_name=True)\n",
    "#     for l in model.layers[:-6]:\n",
    "#         l.trainable = False\n"
   ]
  },
  {
   "cell_type": "code",
   "execution_count": 4,
   "metadata": {},
   "outputs": [
    {
     "name": "stdout",
     "output_type": "stream",
     "text": [
      "200-files\n",
      "[-103.939 -116.779 -123.68 ]\n"
     ]
    }
   ],
   "source": [
    "import glob\n",
    "IMG_ROOT = \"imgs\"\n",
    "fnames = glob.glob(IMG_ROOT+\"/*.jpg\")\n",
    "print(\"{}-files\".format(len(fnames)))\n",
    "train_generator = BatchGenerator(fnames[:2], batch_size=2, shuffle=False)\n",
    "# valid_generator = BatchGenerator(fnames[160:], batch_size=4, shuffle=False)"
   ]
  },
  {
   "cell_type": "code",
   "execution_count": null,
   "metadata": {},
   "outputs": [],
   "source": [
    "# 2. create loss function\n",
    "model.compile(loss=\"mean_squared_error\",\n",
    "              optimizer=tf.keras.optimizers.Adam(lr=1e-2))\n",
    "model.fit_generator(train_generator,\n",
    "                    steps_per_epoch=len(train_generator),\n",
    "                    callbacks=create_callbacks(),\n",
    "                    validation_data  = train_generator,\n",
    "                    validation_steps = len(train_generator),\n",
    "                    epochs=1000)\n"
   ]
  }
 ],
 "metadata": {
  "kernelspec": {
   "display_name": "Python 3",
   "language": "python",
   "name": "python3"
  },
  "language_info": {
   "codemirror_mode": {
    "name": "ipython",
    "version": 3
   },
   "file_extension": ".py",
   "mimetype": "text/x-python",
   "name": "python",
   "nbconvert_exporter": "python",
   "pygments_lexer": "ipython3",
   "version": "3.6.5"
  }
 },
 "nbformat": 4,
 "nbformat_minor": 2
}
